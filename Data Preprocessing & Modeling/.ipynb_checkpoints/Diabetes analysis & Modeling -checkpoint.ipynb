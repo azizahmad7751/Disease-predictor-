{
 "cells": [
  {
   "cell_type": "code",
   "execution_count": 1,
   "metadata": {},
   "outputs": [
    {
     "name": "stderr",
     "output_type": "stream",
     "text": [
      "c:\\users\\aziz ahmad\\appdata\\local\\programs\\python\\python37\\lib\\site-packages\\statsmodels\\tools\\_testing.py:19: FutureWarning: pandas.util.testing is deprecated. Use the functions in the public API at pandas.testing instead.\n",
      "  import pandas.util.testing as tm\n"
     ]
    }
   ],
   "source": [
    "import numpy as np\n",
    "import pandas as pd\n",
    "import seaborn as sns \n",
    "import matplotlib.pyplot as plt"
   ]
  },
  {
   "cell_type": "code",
   "execution_count": 5,
   "metadata": {},
   "outputs": [],
   "source": [
    "df1 = pd.read_csv('Datasets/Diabetes_XTrain.csv')\n",
    "df2 = pd.read_csv('Datasets/Diabetes_YTrain.csv')"
   ]
  },
  {
   "cell_type": "code",
   "execution_count": 7,
   "metadata": {},
   "outputs": [],
   "source": [
    "X=df1.values"
   ]
  },
  {
   "cell_type": "code",
   "execution_count": 11,
   "metadata": {},
   "outputs": [],
   "source": [
    "Y=df2.values"
   ]
  },
  {
   "cell_type": "code",
   "execution_count": 12,
   "metadata": {},
   "outputs": [
    {
     "data": {
      "text/html": [
       "<div>\n",
       "<style scoped>\n",
       "    .dataframe tbody tr th:only-of-type {\n",
       "        vertical-align: middle;\n",
       "    }\n",
       "\n",
       "    .dataframe tbody tr th {\n",
       "        vertical-align: top;\n",
       "    }\n",
       "\n",
       "    .dataframe thead th {\n",
       "        text-align: right;\n",
       "    }\n",
       "</style>\n",
       "<table border=\"1\" class=\"dataframe\">\n",
       "  <thead>\n",
       "    <tr style=\"text-align: right;\">\n",
       "      <th></th>\n",
       "      <th>Pregnancies</th>\n",
       "      <th>Glucose</th>\n",
       "      <th>BloodPressure</th>\n",
       "      <th>SkinThickness</th>\n",
       "      <th>Insulin</th>\n",
       "      <th>BMI</th>\n",
       "      <th>DiabetesPedigreeFunction</th>\n",
       "      <th>Age</th>\n",
       "    </tr>\n",
       "  </thead>\n",
       "  <tbody>\n",
       "    <tr>\n",
       "      <th>count</th>\n",
       "      <td>576.000000</td>\n",
       "      <td>576.000000</td>\n",
       "      <td>576.000000</td>\n",
       "      <td>576.000000</td>\n",
       "      <td>576.000000</td>\n",
       "      <td>576.000000</td>\n",
       "      <td>576.000000</td>\n",
       "      <td>576.000000</td>\n",
       "    </tr>\n",
       "    <tr>\n",
       "      <th>mean</th>\n",
       "      <td>3.758681</td>\n",
       "      <td>119.975694</td>\n",
       "      <td>68.826389</td>\n",
       "      <td>20.364583</td>\n",
       "      <td>76.166667</td>\n",
       "      <td>31.857292</td>\n",
       "      <td>0.481519</td>\n",
       "      <td>32.954861</td>\n",
       "    </tr>\n",
       "    <tr>\n",
       "      <th>std</th>\n",
       "      <td>3.328783</td>\n",
       "      <td>31.512914</td>\n",
       "      <td>20.285812</td>\n",
       "      <td>15.893856</td>\n",
       "      <td>109.193550</td>\n",
       "      <td>8.134926</td>\n",
       "      <td>0.336910</td>\n",
       "      <td>11.878137</td>\n",
       "    </tr>\n",
       "    <tr>\n",
       "      <th>min</th>\n",
       "      <td>0.000000</td>\n",
       "      <td>0.000000</td>\n",
       "      <td>0.000000</td>\n",
       "      <td>0.000000</td>\n",
       "      <td>0.000000</td>\n",
       "      <td>0.000000</td>\n",
       "      <td>0.078000</td>\n",
       "      <td>21.000000</td>\n",
       "    </tr>\n",
       "    <tr>\n",
       "      <th>25%</th>\n",
       "      <td>1.000000</td>\n",
       "      <td>99.000000</td>\n",
       "      <td>62.000000</td>\n",
       "      <td>0.000000</td>\n",
       "      <td>0.000000</td>\n",
       "      <td>26.975000</td>\n",
       "      <td>0.247750</td>\n",
       "      <td>24.000000</td>\n",
       "    </tr>\n",
       "    <tr>\n",
       "      <th>50%</th>\n",
       "      <td>3.000000</td>\n",
       "      <td>116.000000</td>\n",
       "      <td>72.000000</td>\n",
       "      <td>22.000000</td>\n",
       "      <td>36.000000</td>\n",
       "      <td>32.000000</td>\n",
       "      <td>0.381500</td>\n",
       "      <td>29.000000</td>\n",
       "    </tr>\n",
       "    <tr>\n",
       "      <th>75%</th>\n",
       "      <td>6.000000</td>\n",
       "      <td>139.000000</td>\n",
       "      <td>80.000000</td>\n",
       "      <td>32.000000</td>\n",
       "      <td>120.000000</td>\n",
       "      <td>36.725000</td>\n",
       "      <td>0.641250</td>\n",
       "      <td>40.000000</td>\n",
       "    </tr>\n",
       "    <tr>\n",
       "      <th>max</th>\n",
       "      <td>17.000000</td>\n",
       "      <td>199.000000</td>\n",
       "      <td>122.000000</td>\n",
       "      <td>63.000000</td>\n",
       "      <td>744.000000</td>\n",
       "      <td>67.100000</td>\n",
       "      <td>2.420000</td>\n",
       "      <td>81.000000</td>\n",
       "    </tr>\n",
       "  </tbody>\n",
       "</table>\n",
       "</div>"
      ],
      "text/plain": [
       "       Pregnancies     Glucose  BloodPressure  SkinThickness     Insulin  \\\n",
       "count   576.000000  576.000000     576.000000     576.000000  576.000000   \n",
       "mean      3.758681  119.975694      68.826389      20.364583   76.166667   \n",
       "std       3.328783   31.512914      20.285812      15.893856  109.193550   \n",
       "min       0.000000    0.000000       0.000000       0.000000    0.000000   \n",
       "25%       1.000000   99.000000      62.000000       0.000000    0.000000   \n",
       "50%       3.000000  116.000000      72.000000      22.000000   36.000000   \n",
       "75%       6.000000  139.000000      80.000000      32.000000  120.000000   \n",
       "max      17.000000  199.000000     122.000000      63.000000  744.000000   \n",
       "\n",
       "              BMI  DiabetesPedigreeFunction         Age  \n",
       "count  576.000000                576.000000  576.000000  \n",
       "mean    31.857292                  0.481519   32.954861  \n",
       "std      8.134926                  0.336910   11.878137  \n",
       "min      0.000000                  0.078000   21.000000  \n",
       "25%     26.975000                  0.247750   24.000000  \n",
       "50%     32.000000                  0.381500   29.000000  \n",
       "75%     36.725000                  0.641250   40.000000  \n",
       "max     67.100000                  2.420000   81.000000  "
      ]
     },
     "execution_count": 12,
     "metadata": {},
     "output_type": "execute_result"
    }
   ],
   "source": [
    "df1.describe()"
   ]
  },
  {
   "cell_type": "markdown",
   "metadata": {},
   "source": [
    "# Correlation Analysis and Feature Selection"
   ]
  },
  {
   "cell_type": "code",
   "execution_count": 14,
   "metadata": {},
   "outputs": [
    {
     "data": {
      "image/png": "[encoded data removed]",
      "text/plain": [
       "<Figure size 1152x720 with 2 Axes>"
      ]
     },
     "metadata": {
      "needs_background": "light"
     },
     "output_type": "display_data"
    }
   ],
   "source": [
    "plt.figure(figsize=(16,10))\n",
    "sns.heatmap(df1.corr(), annot=True)\n",
    "plt.show()"
   ]
  },
  {
   "cell_type": "code",
   "execution_count": 16,
   "metadata": {},
   "outputs": [
    {
     "name": "stdout",
     "output_type": "stream",
     "text": [
      "<class 'pandas.core.frame.DataFrame'>\n",
      "RangeIndex: 576 entries, 0 to 575\n",
      "Data columns (total 8 columns):\n",
      " #   Column                    Non-Null Count  Dtype  \n",
      "---  ------                    --------------  -----  \n",
      " 0   Pregnancies               576 non-null    int64  \n",
      " 1   Glucose                   576 non-null    int64  \n",
      " 2   BloodPressure             576 non-null    int64  \n",
      " 3   SkinThickness             576 non-null    int64  \n",
      " 4   Insulin                   576 non-null    int64  \n",
      " 5   BMI                       576 non-null    float64\n",
      " 6   DiabetesPedigreeFunction  576 non-null    float64\n",
      " 7   Age                       576 non-null    int64  \n",
      "dtypes: float64(2), int64(6)\n",
      "memory usage: 36.1 KB\n"
     ]
    }
   ],
   "source": [
    "df1.info()"
   ]
  },
  {
   "cell_type": "markdown",
   "metadata": {},
   "source": [
    "# Classification Models using sklearn "
   ]
  },
  {
   "cell_type": "code",
   "execution_count": 17,
   "metadata": {},
   "outputs": [],
   "source": [
    "from sklearn.ensemble import RandomForestClassifier\n",
    "from sklearn.neighbors import KNeighborsClassifier"
   ]
  },
  {
   "cell_type": "code",
   "execution_count": 18,
   "metadata": {},
   "outputs": [],
   "source": [
    "#Splitting the dataset into the Training set and Test set\n",
    "from sklearn.model_selection import train_test_split\n",
    "X_train, X_test, y_train, y_test = train_test_split(X, Y, test_size = 0.2, random_state = 0)\n"
   ]
  },
  {
   "cell_type": "code",
   "execution_count": 19,
   "metadata": {},
   "outputs": [],
   "source": [
    "rf = RandomForestClassifier()"
   ]
  },
  {
   "cell_type": "code",
   "execution_count": 20,
   "metadata": {},
   "outputs": [
    {
     "name": "stderr",
     "output_type": "stream",
     "text": [
      "c:\\users\\aziz ahmad\\appdata\\local\\programs\\python\\python37\\lib\\site-packages\\sklearn\\ensemble\\forest.py:246: FutureWarning: The default value of n_estimators will change from 10 in version 0.20 to 100 in 0.22.\n",
      "  \"10 in version 0.20 to 100 in 0.22.\", FutureWarning)\n",
      "c:\\users\\aziz ahmad\\appdata\\local\\programs\\python\\python37\\lib\\site-packages\\ipykernel_launcher.py:1: DataConversionWarning: A column-vector y was passed when a 1d array was expected. Please change the shape of y to (n_samples,), for example using ravel().\n",
      "  \"\"\"Entry point for launching an IPython kernel.\n"
     ]
    },
    {
     "data": {
      "text/plain": [
       "RandomForestClassifier(bootstrap=True, class_weight=None, criterion='gini',\n",
       "            max_depth=None, max_features='auto', max_leaf_nodes=None,\n",
       "            min_impurity_decrease=0.0, min_impurity_split=None,\n",
       "            min_samples_leaf=1, min_samples_split=2,\n",
       "            min_weight_fraction_leaf=0.0, n_estimators=10, n_jobs=None,\n",
       "            oob_score=False, random_state=None, verbose=0,\n",
       "            warm_start=False)"
      ]
     },
     "execution_count": 20,
     "metadata": {},
     "output_type": "execute_result"
    }
   ],
   "source": [
    "rf.fit(X_train, y_train)"
   ]
  },
  {
   "cell_type": "code",
   "execution_count": 21,
   "metadata": {},
   "outputs": [
    {
     "data": {
      "text/plain": [
       "0.9804347826086957"
      ]
     },
     "execution_count": 21,
     "metadata": {},
     "output_type": "execute_result"
    }
   ],
   "source": [
    "rf.score(X_train,y_train) "
   ]
  },
  {
   "cell_type": "code",
   "execution_count": 22,
   "metadata": {},
   "outputs": [],
   "source": [
    "y_pred =rf.predict(X_test)"
   ]
  },
  {
   "cell_type": "code",
   "execution_count": 23,
   "metadata": {},
   "outputs": [
    {
     "data": {
      "text/plain": [
       "array([0, 0, 1, 0, 0, 0, 0, 0, 0, 0, 0, 0, 0, 0, 0, 1, 1, 0, 1, 0, 0, 0,\n",
       "       1, 0, 0, 0, 0, 1, 1, 0, 0, 0, 1, 0, 1, 1, 0, 0, 1, 0, 1, 0, 0, 1,\n",
       "       0, 0, 1, 0, 0, 0, 0, 1, 0, 1, 1, 1, 0, 0, 0, 1, 0, 0, 0, 0, 0, 1,\n",
       "       0, 0, 0, 1, 0, 0, 1, 0, 0, 0, 0, 1, 0, 0, 1, 0, 0, 0, 0, 0, 1, 0,\n",
       "       0, 1, 0, 0, 0, 0, 0, 0, 0, 0, 0, 0, 0, 0, 0, 0, 1, 0, 0, 1, 0, 0,\n",
       "       1, 0, 0, 1, 0, 1], dtype=int64)"
      ]
     },
     "execution_count": 23,
     "metadata": {},
     "output_type": "execute_result"
    }
   ],
   "source": [
    "y_pred"
   ]
  },
  {
   "cell_type": "markdown",
   "metadata": {},
   "source": [
    "# Deeplearning using ANN"
   ]
  },
  {
   "cell_type": "code",
   "execution_count": 24,
   "metadata": {},
   "outputs": [
    {
     "name": "stderr",
     "output_type": "stream",
     "text": [
      "Using TensorFlow backend.\n"
     ]
    }
   ],
   "source": [
    "import keras\n",
    "from keras.models import Sequential\n",
    "from keras.layers import Dense\n",
    "from keras.layers import LeakyReLU,PReLU,ELU\n",
    "from keras.layers import Dropout\n",
    "from keras.optimizers import Adam"
   ]
  },
  {
   "cell_type": "code",
   "execution_count": 26,
   "metadata": {},
   "outputs": [
    {
     "name": "stdout",
     "output_type": "stream",
     "text": [
      "Epoch 1/100\n",
      "576/576 [==============================] - 1s 1ms/step - loss: 9.3463 - acc: 0.3924\n",
      "Epoch 2/100\n",
      "576/576 [==============================] - 0s 47us/step - loss: 8.7124 - acc: 0.4115\n",
      "Epoch 3/100\n",
      "576/576 [==============================] - 0s 54us/step - loss: 8.6771 - acc: 0.4288\n",
      "Epoch 4/100\n",
      "576/576 [==============================] - 0s 42us/step - loss: 8.4682 - acc: 0.4236\n",
      "Epoch 5/100\n",
      "576/576 [==============================] - 0s 47us/step - loss: 8.1591 - acc: 0.4549\n",
      "Epoch 6/100\n",
      "576/576 [==============================] - 0s 42us/step - loss: 7.7842 - acc: 0.4601\n",
      "Epoch 7/100\n",
      "576/576 [==============================] - 0s 43us/step - loss: 7.9288 - acc: 0.4653\n",
      "Epoch 8/100\n",
      "576/576 [==============================] - 0s 47us/step - loss: 7.5508 - acc: 0.4809\n",
      "Epoch 9/100\n",
      "576/576 [==============================] - 0s 48us/step - loss: 7.6511 - acc: 0.4688\n",
      "Epoch 10/100\n",
      "576/576 [==============================] - 0s 42us/step - loss: 6.5551 - acc: 0.5469\n",
      "Epoch 11/100\n",
      "576/576 [==============================] - 0s 43us/step - loss: 6.7962 - acc: 0.5191\n",
      "Epoch 12/100\n",
      "576/576 [==============================] - 0s 45us/step - loss: 6.3196 - acc: 0.5556\n",
      "Epoch 13/100\n",
      "576/576 [==============================] - 0s 48us/step - loss: 6.5335 - acc: 0.5451\n",
      "Epoch 14/100\n",
      "576/576 [==============================] - 0s 55us/step - loss: 6.9731 - acc: 0.5295\n",
      "Epoch 15/100\n",
      "576/576 [==============================] - 0s 42us/step - loss: 6.6207 - acc: 0.5417\n",
      "Epoch 16/100\n",
      "576/576 [==============================] - 0s 45us/step - loss: 6.4105 - acc: 0.5434\n",
      "Epoch 17/100\n",
      "576/576 [==============================] - 0s 50us/step - loss: 6.4936 - acc: 0.5538\n",
      "Epoch 18/100\n",
      "576/576 [==============================] - 0s 45us/step - loss: 5.8911 - acc: 0.5955\n",
      "Epoch 19/100\n",
      "576/576 [==============================] - 0s 50us/step - loss: 5.8442 - acc: 0.5851\n",
      "Epoch 20/100\n",
      "576/576 [==============================] - 0s 43us/step - loss: 5.6627 - acc: 0.5972\n",
      "Epoch 21/100\n",
      "576/576 [==============================] - 0s 47us/step - loss: 5.9674 - acc: 0.5764\n",
      "Epoch 22/100\n",
      "576/576 [==============================] - 0s 45us/step - loss: 5.7796 - acc: 0.6059\n",
      "Epoch 23/100\n",
      "576/576 [==============================] - 0s 45us/step - loss: 5.8565 - acc: 0.6042\n",
      "Epoch 24/100\n",
      "576/576 [==============================] - 0s 54us/step - loss: 5.5279 - acc: 0.6128\n",
      "Epoch 25/100\n",
      "576/576 [==============================] - 0s 55us/step - loss: 5.3394 - acc: 0.6285\n",
      "Epoch 26/100\n",
      "576/576 [==============================] - 0s 61us/step - loss: 5.5149 - acc: 0.6181\n",
      "Epoch 27/100\n",
      "576/576 [==============================] - 0s 99us/step - loss: 5.6400 - acc: 0.6042\n",
      "Epoch 28/100\n",
      "576/576 [==============================] - 0s 50us/step - loss: 5.3280 - acc: 0.6111\n",
      "Epoch 29/100\n",
      "576/576 [==============================] - 0s 48us/step - loss: 5.8004 - acc: 0.5955\n",
      "Epoch 30/100\n",
      "576/576 [==============================] - 0s 61us/step - loss: 5.7763 - acc: 0.5990\n",
      "Epoch 31/100\n",
      "576/576 [==============================] - 0s 55us/step - loss: 5.4267 - acc: 0.6181\n",
      "Epoch 32/100\n",
      "576/576 [==============================] - 0s 47us/step - loss: 5.8099 - acc: 0.5903\n",
      "Epoch 33/100\n",
      "576/576 [==============================] - 0s 45us/step - loss: 5.1485 - acc: 0.6406\n",
      "Epoch 34/100\n",
      "576/576 [==============================] - 0s 59us/step - loss: 5.5603 - acc: 0.6076\n",
      "Epoch 35/100\n",
      "576/576 [==============================] - 0s 55us/step - loss: 5.5963 - acc: 0.6181\n",
      "Epoch 36/100\n",
      "576/576 [==============================] - 0s 64us/step - loss: 5.6633 - acc: 0.6146\n",
      "Epoch 37/100\n",
      "576/576 [==============================] - 0s 57us/step - loss: 5.5409 - acc: 0.6128\n",
      "Epoch 38/100\n",
      "576/576 [==============================] - 0s 54us/step - loss: 5.2488 - acc: 0.6319\n",
      "Epoch 39/100\n",
      "576/576 [==============================] - 0s 54us/step - loss: 5.5376 - acc: 0.6146\n",
      "Epoch 40/100\n",
      "576/576 [==============================] - 0s 54us/step - loss: 5.6251 - acc: 0.6215\n",
      "Epoch 41/100\n",
      "576/576 [==============================] - 0s 57us/step - loss: 5.4826 - acc: 0.6059\n",
      "Epoch 42/100\n",
      "576/576 [==============================] - 0s 55us/step - loss: 5.4163 - acc: 0.6181\n",
      "Epoch 43/100\n",
      "576/576 [==============================] - 0s 55us/step - loss: 5.4307 - acc: 0.6111\n",
      "Epoch 44/100\n",
      "576/576 [==============================] - 0s 48us/step - loss: 5.1502 - acc: 0.6233\n",
      "Epoch 45/100\n",
      "576/576 [==============================] - 0s 45us/step - loss: 5.4149 - acc: 0.6163\n",
      "Epoch 46/100\n",
      "576/576 [==============================] - 0s 47us/step - loss: 5.4504 - acc: 0.6146\n",
      "Epoch 47/100\n",
      "576/576 [==============================] - 0s 48us/step - loss: 5.2936 - acc: 0.6042\n",
      "Epoch 48/100\n",
      "576/576 [==============================] - 0s 52us/step - loss: 5.5916 - acc: 0.6163\n",
      "Epoch 49/100\n",
      "576/576 [==============================] - 0s 71us/step - loss: 5.2946 - acc: 0.6285\n",
      "Epoch 50/100\n",
      "576/576 [==============================] - 0s 52us/step - loss: 5.2063 - acc: 0.6215\n",
      "Epoch 51/100\n",
      "576/576 [==============================] - 0s 43us/step - loss: 5.3057 - acc: 0.6233\n",
      "Epoch 52/100\n",
      "576/576 [==============================] - 0s 55us/step - loss: 5.3154 - acc: 0.6024\n",
      "Epoch 53/100\n",
      "576/576 [==============================] - 0s 47us/step - loss: 5.0769 - acc: 0.6128\n",
      "Epoch 54/100\n",
      "576/576 [==============================] - 0s 47us/step - loss: 5.0550 - acc: 0.6285\n",
      "Epoch 55/100\n",
      "576/576 [==============================] - 0s 50us/step - loss: 5.1661 - acc: 0.6233\n",
      "Epoch 56/100\n",
      "576/576 [==============================] - 0s 50us/step - loss: 5.3359 - acc: 0.6267\n",
      "Epoch 57/100\n",
      "576/576 [==============================] - 0s 54us/step - loss: 4.9672 - acc: 0.6059\n",
      "Epoch 58/100\n",
      "576/576 [==============================] - 0s 50us/step - loss: 5.1061 - acc: 0.6163\n",
      "Epoch 59/100\n",
      "576/576 [==============================] - 0s 92us/step - loss: 5.4914 - acc: 0.5851\n",
      "Epoch 60/100\n",
      "576/576 [==============================] - 0s 57us/step - loss: 5.0787 - acc: 0.6059\n",
      "Epoch 61/100\n",
      "576/576 [==============================] - 0s 54us/step - loss: 4.9213 - acc: 0.6198\n",
      "Epoch 62/100\n",
      "576/576 [==============================] - 0s 55us/step - loss: 4.8115 - acc: 0.6424\n",
      "Epoch 63/100\n",
      "576/576 [==============================] - 0s 47us/step - loss: 4.8223 - acc: 0.6181\n",
      "Epoch 64/100\n",
      "576/576 [==============================] - 0s 52us/step - loss: 5.1422 - acc: 0.6059\n",
      "Epoch 65/100\n",
      "576/576 [==============================] - 0s 50us/step - loss: 4.8799 - acc: 0.5920\n",
      "Epoch 66/100\n",
      "576/576 [==============================] - 0s 54us/step - loss: 4.4659 - acc: 0.6233\n",
      "Epoch 67/100\n",
      "576/576 [==============================] - 0s 48us/step - loss: 4.6463 - acc: 0.5920\n",
      "Epoch 68/100\n",
      "576/576 [==============================] - 0s 54us/step - loss: 4.5841 - acc: 0.5747\n",
      "Epoch 69/100\n",
      "576/576 [==============================] - 0s 57us/step - loss: 4.5121 - acc: 0.5938\n",
      "Epoch 70/100\n",
      "576/576 [==============================] - 0s 52us/step - loss: 4.3562 - acc: 0.5920\n",
      "Epoch 71/100\n",
      "576/576 [==============================] - 0s 54us/step - loss: 4.3129 - acc: 0.5938\n",
      "Epoch 72/100\n",
      "576/576 [==============================] - 0s 50us/step - loss: 4.2011 - acc: 0.5990\n",
      "Epoch 73/100\n",
      "576/576 [==============================] - 0s 55us/step - loss: 4.2174 - acc: 0.5903\n",
      "Epoch 74/100\n",
      "576/576 [==============================] - 0s 54us/step - loss: 4.1448 - acc: 0.5538\n",
      "Epoch 75/100\n",
      "576/576 [==============================] - 0s 47us/step - loss: 3.4997 - acc: 0.5920\n",
      "Epoch 76/100\n",
      "576/576 [==============================] - 0s 45us/step - loss: 3.6043 - acc: 0.5903\n",
      "Epoch 77/100\n",
      "576/576 [==============================] - 0s 50us/step - loss: 3.5594 - acc: 0.5712\n",
      "Epoch 78/100\n",
      "576/576 [==============================] - 0s 52us/step - loss: 3.1863 - acc: 0.5903\n",
      "Epoch 79/100\n",
      "576/576 [==============================] - 0s 52us/step - loss: 3.0949 - acc: 0.5712\n",
      "Epoch 80/100\n",
      "576/576 [==============================] - 0s 48us/step - loss: 3.0852 - acc: 0.5295\n",
      "Epoch 81/100\n",
      "576/576 [==============================] - 0s 45us/step - loss: 2.9300 - acc: 0.5642\n",
      "Epoch 82/100\n",
      "576/576 [==============================] - 0s 48us/step - loss: 2.6817 - acc: 0.5139\n",
      "Epoch 83/100\n",
      "576/576 [==============================] - 0s 45us/step - loss: 2.7789 - acc: 0.5573\n",
      "Epoch 84/100\n"
     ]
    },
    {
     "name": "stdout",
     "output_type": "stream",
     "text": [
      "576/576 [==============================] - 0s 50us/step - loss: 2.3611 - acc: 0.5694\n",
      "Epoch 85/100\n",
      "576/576 [==============================] - 0s 48us/step - loss: 2.2972 - acc: 0.5503\n",
      "Epoch 86/100\n",
      "576/576 [==============================] - 0s 48us/step - loss: 2.0262 - acc: 0.5903\n",
      "Epoch 87/100\n",
      "576/576 [==============================] - 0s 47us/step - loss: 2.1433 - acc: 0.5486\n",
      "Epoch 88/100\n",
      "576/576 [==============================] - 0s 43us/step - loss: 1.9319 - acc: 0.5833\n",
      "Epoch 89/100\n",
      "576/576 [==============================] - 0s 47us/step - loss: 1.7595 - acc: 0.5521\n",
      "Epoch 90/100\n",
      "576/576 [==============================] - 0s 45us/step - loss: 1.6306 - acc: 0.5677\n",
      "Epoch 91/100\n",
      "576/576 [==============================] - 0s 47us/step - loss: 1.6819 - acc: 0.5503\n",
      "Epoch 92/100\n",
      "576/576 [==============================] - 0s 48us/step - loss: 1.6278 - acc: 0.5694\n",
      "Epoch 93/100\n",
      "576/576 [==============================] - 0s 42us/step - loss: 1.5010 - acc: 0.5590\n",
      "Epoch 94/100\n",
      "576/576 [==============================] - 0s 42us/step - loss: 1.5463 - acc: 0.5885\n",
      "Epoch 95/100\n",
      "576/576 [==============================] - 0s 43us/step - loss: 1.3743 - acc: 0.6059\n",
      "Epoch 96/100\n",
      "576/576 [==============================] - 0s 45us/step - loss: 1.4480 - acc: 0.6094\n",
      "Epoch 97/100\n",
      "576/576 [==============================] - 0s 43us/step - loss: 1.4948 - acc: 0.5521\n",
      "Epoch 98/100\n",
      "576/576 [==============================] - 0s 57us/step - loss: 1.1824 - acc: 0.5660\n",
      "Epoch 99/100\n",
      "576/576 [==============================] - 0s 43us/step - loss: 1.3282 - acc: 0.5816\n",
      "Epoch 100/100\n",
      "576/576 [==============================] - 0s 57us/step - loss: 1.3217 - acc: 0.6076\n"
     ]
    }
   ],
   "source": [
    "model = Sequential()\n",
    "model.add(Dense(20,input_dim=8, kernel_initializer='he_uniform', activation='relu'))\n",
    "model.add(Dropout(0.3))\n",
    "model.add(Dense(20,kernel_initializer='he_uniform',activation='relu'))\n",
    "model.add(Dropout(0.3))\n",
    "model.add(Dense(20,kernel_initializer='he_uniform',activation='relu'))\n",
    "model.add(Dropout(0.3))\n",
    "\n",
    "model.add(Dense(20,kernel_initializer='he_uniform',activation='relu'))\n",
    "model.add(Dropout(0.3))\n",
    "model.add(Dense(1,activation='sigmoid'))\n",
    "model.compile( optimizer=Adam(lr=0.001), loss='binary_crossentropy',metrics = ['accuracy'])\n",
    " \n",
    "    # fit the keras model on the dataset\n",
    "history=model.fit(X, Y, batch_size=64, epochs=100)"
   ]
  },
  {
   "cell_type": "code",
   "execution_count": 27,
   "metadata": {},
   "outputs": [
    {
     "name": "stdout",
     "output_type": "stream",
     "text": [
      "_________________________________________________________________\n",
      "Layer (type)                 Output Shape              Param #   \n",
      "=================================================================\n",
      "dense_6 (Dense)              (None, 20)                180       \n",
      "_________________________________________________________________\n",
      "dropout_5 (Dropout)          (None, 20)                0         \n",
      "_________________________________________________________________\n",
      "dense_7 (Dense)              (None, 20)                420       \n",
      "_________________________________________________________________\n",
      "dropout_6 (Dropout)          (None, 20)                0         \n",
      "_________________________________________________________________\n",
      "dense_8 (Dense)              (None, 20)                420       \n",
      "_________________________________________________________________\n",
      "dropout_7 (Dropout)          (None, 20)                0         \n",
      "_________________________________________________________________\n",
      "dense_9 (Dense)              (None, 20)                420       \n",
      "_________________________________________________________________\n",
      "dropout_8 (Dropout)          (None, 20)                0         \n",
      "_________________________________________________________________\n",
      "dense_10 (Dense)             (None, 1)                 21        \n",
      "=================================================================\n",
      "Total params: 1,461\n",
      "Trainable params: 1,461\n",
      "Non-trainable params: 0\n",
      "_________________________________________________________________\n"
     ]
    }
   ],
   "source": [
    "model.summary() "
   ]
  },
  {
   "cell_type": "code",
   "execution_count": 28,
   "metadata": {},
   "outputs": [
    {
     "name": "stdout",
     "output_type": "stream",
     "text": [
      "Train on 460 samples, validate on 116 samples\n",
      "Epoch 1/100\n",
      "460/460 [==============================] - 0s 351us/step - loss: 1.3100 - acc: 0.5717 - val_loss: 0.8536 - val_acc: 0.7328\n",
      "Epoch 2/100\n",
      "460/460 [==============================] - 0s 59us/step - loss: 1.3256 - acc: 0.5761 - val_loss: 0.8427 - val_acc: 0.7328\n",
      "Epoch 3/100\n",
      "460/460 [==============================] - 0s 52us/step - loss: 1.1551 - acc: 0.5739 - val_loss: 0.8283 - val_acc: 0.7328\n",
      "Epoch 4/100\n",
      "460/460 [==============================] - 0s 48us/step - loss: 1.2791 - acc: 0.5717 - val_loss: 0.7798 - val_acc: 0.7414\n",
      "Epoch 5/100\n",
      "460/460 [==============================] - 0s 56us/step - loss: 1.1961 - acc: 0.5630 - val_loss: 0.7554 - val_acc: 0.7414\n",
      "Epoch 6/100\n",
      "460/460 [==============================] - 0s 52us/step - loss: 1.2215 - acc: 0.6196 - val_loss: 0.7455 - val_acc: 0.7414\n",
      "Epoch 7/100\n",
      "460/460 [==============================] - 0s 54us/step - loss: 1.1695 - acc: 0.5848 - val_loss: 0.7420 - val_acc: 0.7414\n",
      "Epoch 8/100\n",
      "460/460 [==============================] - 0s 56us/step - loss: 1.0783 - acc: 0.6130 - val_loss: 0.7271 - val_acc: 0.7414\n",
      "Epoch 9/100\n",
      "460/460 [==============================] - 0s 82us/step - loss: 1.0836 - acc: 0.5804 - val_loss: 0.7148 - val_acc: 0.7414\n",
      "Epoch 10/100\n",
      "460/460 [==============================] - ETA: 0s - loss: 1.7522 - acc: 0.531 - 0s 63us/step - loss: 1.1849 - acc: 0.6065 - val_loss: 0.7096 - val_acc: 0.7414\n",
      "Epoch 11/100\n",
      "460/460 [==============================] - 0s 72us/step - loss: 1.0512 - acc: 0.6152 - val_loss: 0.7125 - val_acc: 0.7414\n",
      "Epoch 12/100\n",
      "460/460 [==============================] - 0s 61us/step - loss: 1.0372 - acc: 0.6391 - val_loss: 0.7261 - val_acc: 0.7414\n",
      "Epoch 13/100\n",
      "460/460 [==============================] - 0s 76us/step - loss: 0.8978 - acc: 0.5826 - val_loss: 0.7240 - val_acc: 0.7414\n",
      "Epoch 14/100\n",
      "460/460 [==============================] - 0s 85us/step - loss: 0.8803 - acc: 0.6217 - val_loss: 0.7133 - val_acc: 0.7414\n",
      "Epoch 15/100\n",
      "460/460 [==============================] - 0s 82us/step - loss: 0.9684 - acc: 0.5783 - val_loss: 0.7090 - val_acc: 0.7586\n",
      "Epoch 16/100\n",
      "460/460 [==============================] - 0s 65us/step - loss: 0.9513 - acc: 0.6152 - val_loss: 0.6895 - val_acc: 0.7586\n",
      "Epoch 17/100\n",
      "460/460 [==============================] - 0s 65us/step - loss: 0.9549 - acc: 0.6000 - val_loss: 0.6786 - val_acc: 0.7586\n",
      "Epoch 18/100\n",
      "460/460 [==============================] - 0s 61us/step - loss: 0.8430 - acc: 0.6109 - val_loss: 0.6679 - val_acc: 0.7500\n",
      "Epoch 19/100\n",
      "460/460 [==============================] - 0s 65us/step - loss: 0.8404 - acc: 0.5957 - val_loss: 0.6586 - val_acc: 0.7414\n",
      "Epoch 20/100\n",
      "460/460 [==============================] - 0s 54us/step - loss: 0.9038 - acc: 0.6174 - val_loss: 0.6532 - val_acc: 0.7414\n",
      "Epoch 21/100\n",
      "460/460 [==============================] - 0s 56us/step - loss: 0.9712 - acc: 0.5870 - val_loss: 0.6489 - val_acc: 0.7500\n",
      "Epoch 22/100\n",
      "460/460 [==============================] - 0s 63us/step - loss: 0.8316 - acc: 0.6109 - val_loss: 0.6368 - val_acc: 0.7500\n",
      "Epoch 23/100\n",
      "460/460 [==============================] - 0s 52us/step - loss: 0.8718 - acc: 0.6152 - val_loss: 0.6367 - val_acc: 0.7500\n",
      "Epoch 24/100\n",
      "460/460 [==============================] - 0s 65us/step - loss: 0.8192 - acc: 0.6087 - val_loss: 0.6440 - val_acc: 0.7500\n",
      "Epoch 25/100\n",
      "460/460 [==============================] - 0s 61us/step - loss: 0.7921 - acc: 0.6304 - val_loss: 0.6455 - val_acc: 0.7500\n",
      "Epoch 26/100\n",
      "460/460 [==============================] - 0s 67us/step - loss: 0.8854 - acc: 0.6065 - val_loss: 0.6325 - val_acc: 0.7500\n",
      "Epoch 27/100\n",
      "460/460 [==============================] - 0s 52us/step - loss: 0.8703 - acc: 0.5978 - val_loss: 0.6238 - val_acc: 0.7500\n",
      "Epoch 28/100\n",
      "460/460 [==============================] - 0s 63us/step - loss: 0.7846 - acc: 0.6152 - val_loss: 0.6151 - val_acc: 0.7500\n",
      "Epoch 29/100\n",
      "460/460 [==============================] - 0s 63us/step - loss: 0.7736 - acc: 0.6065 - val_loss: 0.6116 - val_acc: 0.7500\n",
      "Epoch 30/100\n",
      "460/460 [==============================] - 0s 52us/step - loss: 0.8078 - acc: 0.6087 - val_loss: 0.6081 - val_acc: 0.7500\n",
      "Epoch 31/100\n",
      "460/460 [==============================] - 0s 63us/step - loss: 0.8580 - acc: 0.5957 - val_loss: 0.6057 - val_acc: 0.7500\n",
      "Epoch 32/100\n",
      "460/460 [==============================] - 0s 54us/step - loss: 0.8025 - acc: 0.6239 - val_loss: 0.6065 - val_acc: 0.7500\n",
      "Epoch 33/100\n",
      "460/460 [==============================] - 0s 56us/step - loss: 0.8187 - acc: 0.5957 - val_loss: 0.6073 - val_acc: 0.7500\n",
      "Epoch 34/100\n",
      "460/460 [==============================] - 0s 56us/step - loss: 0.7988 - acc: 0.6065 - val_loss: 0.6193 - val_acc: 0.7500\n",
      "Epoch 35/100\n",
      "460/460 [==============================] - 0s 52us/step - loss: 0.8830 - acc: 0.5848 - val_loss: 0.6197 - val_acc: 0.7500\n",
      "Epoch 36/100\n",
      "460/460 [==============================] - 0s 59us/step - loss: 0.7993 - acc: 0.6217 - val_loss: 0.6122 - val_acc: 0.7500\n",
      "Epoch 37/100\n",
      "460/460 [==============================] - 0s 59us/step - loss: 0.7899 - acc: 0.6217 - val_loss: 0.6070 - val_acc: 0.7500\n",
      "Epoch 38/100\n",
      "460/460 [==============================] - 0s 50us/step - loss: 0.8082 - acc: 0.6283 - val_loss: 0.6034 - val_acc: 0.7500\n",
      "Epoch 39/100\n",
      "460/460 [==============================] - 0s 65us/step - loss: 0.8176 - acc: 0.6022 - val_loss: 0.6041 - val_acc: 0.7500\n",
      "Epoch 40/100\n",
      "460/460 [==============================] - 0s 56us/step - loss: 0.7738 - acc: 0.6130 - val_loss: 0.6042 - val_acc: 0.7500\n",
      "Epoch 41/100\n",
      "460/460 [==============================] - 0s 46us/step - loss: 0.7569 - acc: 0.6109 - val_loss: 0.6039 - val_acc: 0.7500\n",
      "Epoch 42/100\n",
      "460/460 [==============================] - 0s 54us/step - loss: 0.7172 - acc: 0.6239 - val_loss: 0.5992 - val_acc: 0.7500\n",
      "Epoch 43/100\n",
      "460/460 [==============================] - 0s 48us/step - loss: 0.8248 - acc: 0.5870 - val_loss: 0.5949 - val_acc: 0.7500\n",
      "Epoch 44/100\n",
      "460/460 [==============================] - 0s 56us/step - loss: 0.7592 - acc: 0.6087 - val_loss: 0.5946 - val_acc: 0.7500\n",
      "Epoch 45/100\n",
      "460/460 [==============================] - 0s 46us/step - loss: 0.7921 - acc: 0.6087 - val_loss: 0.5939 - val_acc: 0.7500\n",
      "Epoch 46/100\n",
      "460/460 [==============================] - 0s 74us/step - loss: 0.7838 - acc: 0.6130 - val_loss: 0.5946 - val_acc: 0.7500\n",
      "Epoch 47/100\n",
      "460/460 [==============================] - 0s 63us/step - loss: 0.7663 - acc: 0.6130 - val_loss: 0.5946 - val_acc: 0.7500\n",
      "Epoch 48/100\n",
      "460/460 [==============================] - 0s 61us/step - loss: 0.7214 - acc: 0.6261 - val_loss: 0.5935 - val_acc: 0.7500\n",
      "Epoch 49/100\n",
      "460/460 [==============================] - 0s 56us/step - loss: 0.8189 - acc: 0.5978 - val_loss: 0.5923 - val_acc: 0.7500\n",
      "Epoch 50/100\n",
      "460/460 [==============================] - 0s 59us/step - loss: 0.7508 - acc: 0.6022 - val_loss: 0.5907 - val_acc: 0.7500\n",
      "Epoch 51/100\n",
      "460/460 [==============================] - 0s 56us/step - loss: 0.7800 - acc: 0.6283 - val_loss: 0.5902 - val_acc: 0.7586\n",
      "Epoch 52/100\n",
      "460/460 [==============================] - 0s 65us/step - loss: 0.6951 - acc: 0.6196 - val_loss: 0.5891 - val_acc: 0.7586\n",
      "Epoch 53/100\n",
      "460/460 [==============================] - 0s 59us/step - loss: 0.7072 - acc: 0.6391 - val_loss: 0.5867 - val_acc: 0.7586\n",
      "Epoch 54/100\n",
      "460/460 [==============================] - 0s 67us/step - loss: 0.7441 - acc: 0.6217 - val_loss: 0.5832 - val_acc: 0.7586\n",
      "Epoch 55/100\n",
      "460/460 [==============================] - 0s 56us/step - loss: 0.7248 - acc: 0.6239 - val_loss: 0.5814 - val_acc: 0.7586\n",
      "Epoch 56/100\n",
      "460/460 [==============================] - 0s 61us/step - loss: 0.7073 - acc: 0.6326 - val_loss: 0.5827 - val_acc: 0.7586\n",
      "Epoch 57/100\n",
      "460/460 [==============================] - 0s 65us/step - loss: 0.7643 - acc: 0.6130 - val_loss: 0.5822 - val_acc: 0.7586\n",
      "Epoch 58/100\n",
      "460/460 [==============================] - 0s 65us/step - loss: 0.7367 - acc: 0.6196 - val_loss: 0.5829 - val_acc: 0.7586\n",
      "Epoch 59/100\n",
      "460/460 [==============================] - 0s 72us/step - loss: 0.7151 - acc: 0.6413 - val_loss: 0.5825 - val_acc: 0.7586\n",
      "Epoch 60/100\n",
      "460/460 [==============================] - 0s 59us/step - loss: 0.7600 - acc: 0.6109 - val_loss: 0.5819 - val_acc: 0.7586\n",
      "Epoch 61/100\n"
     ]
    },
    {
     "name": "stdout",
     "output_type": "stream",
     "text": [
      "460/460 [==============================] - 0s 67us/step - loss: 0.7477 - acc: 0.5913 - val_loss: 0.5803 - val_acc: 0.7586\n",
      "Epoch 62/100\n",
      "460/460 [==============================] - 0s 63us/step - loss: 0.7358 - acc: 0.6261 - val_loss: 0.5790 - val_acc: 0.7586\n",
      "Epoch 63/100\n",
      "460/460 [==============================] - 0s 61us/step - loss: 0.7414 - acc: 0.6304 - val_loss: 0.5786 - val_acc: 0.7586\n",
      "Epoch 64/100\n",
      "460/460 [==============================] - 0s 63us/step - loss: 0.7513 - acc: 0.6022 - val_loss: 0.5793 - val_acc: 0.7586\n",
      "Epoch 65/100\n",
      "460/460 [==============================] - 0s 56us/step - loss: 0.6730 - acc: 0.6348 - val_loss: 0.5805 - val_acc: 0.7586\n",
      "Epoch 66/100\n",
      "460/460 [==============================] - 0s 56us/step - loss: 0.7320 - acc: 0.6087 - val_loss: 0.5821 - val_acc: 0.7586\n",
      "Epoch 67/100\n",
      "460/460 [==============================] - 0s 50us/step - loss: 0.7576 - acc: 0.6217 - val_loss: 0.5834 - val_acc: 0.7586\n",
      "Epoch 68/100\n",
      "460/460 [==============================] - 0s 59us/step - loss: 0.7767 - acc: 0.5978 - val_loss: 0.5824 - val_acc: 0.7586\n",
      "Epoch 69/100\n",
      "460/460 [==============================] - 0s 50us/step - loss: 0.6533 - acc: 0.6457 - val_loss: 0.5820 - val_acc: 0.7586\n",
      "Epoch 70/100\n",
      "460/460 [==============================] - 0s 61us/step - loss: 0.7162 - acc: 0.6174 - val_loss: 0.5817 - val_acc: 0.7586\n",
      "Epoch 71/100\n",
      "460/460 [==============================] - 0s 54us/step - loss: 0.7366 - acc: 0.6217 - val_loss: 0.5808 - val_acc: 0.7586\n",
      "Epoch 72/100\n",
      "460/460 [==============================] - 0s 54us/step - loss: 0.7004 - acc: 0.6261 - val_loss: 0.5829 - val_acc: 0.7586\n",
      "Epoch 73/100\n",
      "460/460 [==============================] - 0s 54us/step - loss: 0.7469 - acc: 0.6348 - val_loss: 0.5853 - val_acc: 0.7586\n",
      "Epoch 74/100\n",
      "460/460 [==============================] - 0s 56us/step - loss: 0.6757 - acc: 0.6826 - val_loss: 0.5835 - val_acc: 0.7586\n",
      "Epoch 75/100\n",
      "460/460 [==============================] - 0s 56us/step - loss: 0.7547 - acc: 0.6065 - val_loss: 0.5805 - val_acc: 0.7586\n",
      "Epoch 76/100\n",
      "460/460 [==============================] - 0s 61us/step - loss: 0.7205 - acc: 0.6065 - val_loss: 0.5779 - val_acc: 0.7586\n",
      "Epoch 77/100\n",
      "460/460 [==============================] - 0s 54us/step - loss: 0.7216 - acc: 0.6304 - val_loss: 0.5766 - val_acc: 0.7586\n",
      "Epoch 78/100\n",
      "460/460 [==============================] - 0s 56us/step - loss: 0.7407 - acc: 0.6217 - val_loss: 0.5765 - val_acc: 0.7586\n",
      "Epoch 79/100\n",
      "460/460 [==============================] - 0s 61us/step - loss: 0.7175 - acc: 0.6326 - val_loss: 0.5781 - val_acc: 0.7586\n",
      "Epoch 80/100\n",
      "460/460 [==============================] - 0s 56us/step - loss: 0.7239 - acc: 0.6283 - val_loss: 0.5791 - val_acc: 0.7586\n",
      "Epoch 81/100\n",
      "460/460 [==============================] - 0s 56us/step - loss: 0.6516 - acc: 0.6413 - val_loss: 0.5804 - val_acc: 0.7586\n",
      "Epoch 82/100\n",
      "460/460 [==============================] - 0s 59us/step - loss: 0.6589 - acc: 0.6391 - val_loss: 0.5804 - val_acc: 0.7586\n",
      "Epoch 83/100\n",
      "460/460 [==============================] - 0s 61us/step - loss: 0.6637 - acc: 0.6174 - val_loss: 0.5798 - val_acc: 0.7586\n",
      "Epoch 84/100\n",
      "460/460 [==============================] - 0s 59us/step - loss: 0.6715 - acc: 0.6543 - val_loss: 0.5794 - val_acc: 0.7586\n",
      "Epoch 85/100\n",
      "460/460 [==============================] - 0s 54us/step - loss: 0.6950 - acc: 0.6457 - val_loss: 0.5778 - val_acc: 0.7586\n",
      "Epoch 86/100\n",
      "460/460 [==============================] - 0s 54us/step - loss: 0.6420 - acc: 0.6457 - val_loss: 0.5779 - val_acc: 0.7586\n",
      "Epoch 87/100\n",
      "460/460 [==============================] - 0s 59us/step - loss: 0.7268 - acc: 0.6174 - val_loss: 0.5785 - val_acc: 0.7586\n",
      "Epoch 88/100\n",
      "460/460 [==============================] - 0s 59us/step - loss: 0.7247 - acc: 0.6174 - val_loss: 0.5792 - val_acc: 0.7586\n",
      "Epoch 89/100\n",
      "460/460 [==============================] - 0s 63us/step - loss: 0.7346 - acc: 0.6217 - val_loss: 0.5800 - val_acc: 0.7586\n",
      "Epoch 90/100\n",
      "460/460 [==============================] - 0s 74us/step - loss: 0.7005 - acc: 0.6283 - val_loss: 0.5804 - val_acc: 0.7586\n",
      "Epoch 91/100\n",
      "460/460 [==============================] - 0s 61us/step - loss: 0.7256 - acc: 0.6326 - val_loss: 0.5800 - val_acc: 0.7586\n",
      "Epoch 92/100\n",
      "460/460 [==============================] - 0s 69us/step - loss: 0.6916 - acc: 0.6065 - val_loss: 0.5785 - val_acc: 0.7586\n",
      "Epoch 93/100\n",
      "460/460 [==============================] - 0s 69us/step - loss: 0.6740 - acc: 0.6217 - val_loss: 0.5774 - val_acc: 0.7586\n",
      "Epoch 94/100\n",
      "460/460 [==============================] - 0s 61us/step - loss: 0.6639 - acc: 0.6370 - val_loss: 0.5780 - val_acc: 0.7586\n",
      "Epoch 95/100\n",
      "460/460 [==============================] - 0s 59us/step - loss: 0.6881 - acc: 0.6304 - val_loss: 0.5794 - val_acc: 0.7586\n",
      "Epoch 96/100\n",
      "460/460 [==============================] - 0s 61us/step - loss: 0.6749 - acc: 0.6457 - val_loss: 0.5805 - val_acc: 0.7586\n",
      "Epoch 97/100\n",
      "460/460 [==============================] - 0s 59us/step - loss: 0.6958 - acc: 0.6261 - val_loss: 0.5813 - val_acc: 0.7586\n",
      "Epoch 98/100\n",
      "460/460 [==============================] - 0s 61us/step - loss: 0.7014 - acc: 0.6130 - val_loss: 0.5824 - val_acc: 0.7586\n",
      "Epoch 99/100\n",
      "460/460 [==============================] - 0s 59us/step - loss: 0.6996 - acc: 0.5978 - val_loss: 0.5814 - val_acc: 0.7586\n",
      "Epoch 100/100\n",
      "460/460 [==============================] - 0s 63us/step - loss: 0.6570 - acc: 0.6587 - val_loss: 0.5784 - val_acc: 0.7586\n"
     ]
    }
   ],
   "source": [
    "history = model.fit(X_train, y_train,validation_data = (X_test,y_test), epochs=100, batch_size=64)"
   ]
  },
  {
   "cell_type": "code",
   "execution_count": 29,
   "metadata": {},
   "outputs": [
    {
     "data": {
      "image/png": "[encoded data removed]",
      "text/plain": [
       "<Figure size 432x288 with 1 Axes>"
      ]
     },
     "metadata": {
      "needs_background": "light"
     },
     "output_type": "display_data"
    }
   ],
   "source": [
    "import matplotlib.pyplot as plt\n",
    "plt.plot(history.history['acc'])\n",
    "plt.plot(history.history['val_acc'])\n",
    "plt.title('Model accuracy')\n",
    "plt.ylabel('Accuracy')\n",
    "plt.xlabel('Epoch')\n",
    "plt.legend(['Train', 'Test'], loc='upper left')\n",
    "plt.show()"
   ]
  },
  {
   "cell_type": "code",
   "execution_count": null,
   "metadata": {},
   "outputs": [],
   "source": []
  }
 ],
 "metadata": {
  "kernelspec": {
   "display_name": "Python 3",
   "language": "python",
   "name": "python3"
  },
  "language_info": {
   "codemirror_mode": {
    "name": "ipython",
    "version": 3
   },
   "file_extension": ".py",
   "mimetype": "text/x-python",
   "name": "python",
   "nbconvert_exporter": "python",
   "pygments_lexer": "ipython3",
   "version": "3.7.1"
  }
 },
 "nbformat": 4,
 "nbformat_minor": 2
}
